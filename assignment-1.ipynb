{
 "cells": [
  {
   "cell_type": "code",
   "execution_count": 1,
   "id": "fe1b115f",
   "metadata": {
    "_kg_hide-output": true,
    "execution": {
     "iopub.execute_input": "2024-09-05T12:39:04.656811Z",
     "iopub.status.busy": "2024-09-05T12:39:04.656317Z",
     "iopub.status.idle": "2024-09-05T12:39:27.803086Z",
     "shell.execute_reply": "2024-09-05T12:39:27.801768Z"
    },
    "papermill": {
     "duration": 23.156021,
     "end_time": "2024-09-05T12:39:27.805838",
     "exception": false,
     "start_time": "2024-09-05T12:39:04.649817",
     "status": "completed"
    },
    "tags": []
   },
   "outputs": [
    {
     "name": "stdout",
     "output_type": "stream",
     "text": [
      "Requirement already satisfied: gensim in /opt/conda/lib/python3.10/site-packages (4.3.3)\r\n",
      "Requirement already satisfied: numpy<2.0,>=1.18.5 in /opt/conda/lib/python3.10/site-packages (from gensim) (1.26.4)\r\n",
      "Collecting scipy<1.14.0,>=1.7.0 (from gensim)\r\n",
      "  Downloading scipy-1.13.1-cp310-cp310-manylinux_2_17_x86_64.manylinux2014_x86_64.whl.metadata (60 kB)\r\n",
      "\u001b[2K     \u001b[90m━━━━━━━━━━━━━━━━━━━━━━━━━━━━━━━━━━━━━━━━\u001b[0m \u001b[32m60.6/60.6 kB\u001b[0m \u001b[31m1.7 MB/s\u001b[0m eta \u001b[36m0:00:00\u001b[0m\r\n",
      "\u001b[?25hRequirement already satisfied: smart-open>=1.8.1 in /opt/conda/lib/python3.10/site-packages (from gensim) (7.0.4)\r\n",
      "Requirement already satisfied: wrapt in /opt/conda/lib/python3.10/site-packages (from smart-open>=1.8.1->gensim) (1.16.0)\r\n",
      "Downloading scipy-1.13.1-cp310-cp310-manylinux_2_17_x86_64.manylinux2014_x86_64.whl (38.6 MB)\r\n",
      "\u001b[2K   \u001b[90m━━━━━━━━━━━━━━━━━━━━━━━━━━━━━━━━━━━━━━━━\u001b[0m \u001b[32m38.6/38.6 MB\u001b[0m \u001b[31m39.1 MB/s\u001b[0m eta \u001b[36m0:00:00\u001b[0m\r\n",
      "\u001b[?25hInstalling collected packages: scipy\r\n",
      "  Attempting uninstall: scipy\r\n",
      "    Found existing installation: scipy 1.14.0\r\n",
      "    Uninstalling scipy-1.14.0:\r\n",
      "      Successfully uninstalled scipy-1.14.0\r\n",
      "\u001b[31mERROR: pip's dependency resolver does not currently take into account all the packages that are installed. This behaviour is the source of the following dependency conflicts.\r\n",
      "libpysal 4.9.2 requires packaging>=22, but you have packaging 21.3 which is incompatible.\r\n",
      "libpysal 4.9.2 requires shapely>=2.0.1, but you have shapely 1.8.5.post1 which is incompatible.\r\n",
      "momepy 0.7.2 requires shapely>=2, but you have shapely 1.8.5.post1 which is incompatible.\r\n",
      "pointpats 2.5.0 requires shapely>=2, but you have shapely 1.8.5.post1 which is incompatible.\r\n",
      "spaghetti 1.7.6 requires shapely>=2.0.1, but you have shapely 1.8.5.post1 which is incompatible.\r\n",
      "spopt 0.6.1 requires shapely>=2.0.1, but you have shapely 1.8.5.post1 which is incompatible.\r\n",
      "tsfresh 0.20.3 requires scipy>=1.14.0; python_version >= \"3.10\", but you have scipy 1.13.1 which is incompatible.\u001b[0m\u001b[31m\r\n",
      "\u001b[0mSuccessfully installed scipy-1.13.1\r\n"
     ]
    }
   ],
   "source": [
    "! pip install gensim"
   ]
  },
  {
   "cell_type": "code",
   "execution_count": 2,
   "id": "46850287",
   "metadata": {
    "_kg_hide-input": true,
    "execution": {
     "iopub.execute_input": "2024-09-05T12:39:27.820182Z",
     "iopub.status.busy": "2024-09-05T12:39:27.819290Z",
     "iopub.status.idle": "2024-09-05T12:39:44.101583Z",
     "shell.execute_reply": "2024-09-05T12:39:44.099964Z"
    },
    "papermill": {
     "duration": 16.291995,
     "end_time": "2024-09-05T12:39:44.104082",
     "exception": false,
     "start_time": "2024-09-05T12:39:27.812087",
     "status": "completed"
    },
    "tags": []
   },
   "outputs": [
    {
     "name": "stdout",
     "output_type": "stream",
     "text": [
      "Collecting pandas_ta\r\n",
      "  Downloading pandas_ta-0.3.14b.tar.gz (115 kB)\r\n",
      "\u001b[2K     \u001b[90m━━━━━━━━━━━━━━━━━━━━━━━━━━━━━━━━━━━━━━━\u001b[0m \u001b[32m115.1/115.1 kB\u001b[0m \u001b[31m2.0 MB/s\u001b[0m eta \u001b[36m0:00:00\u001b[0m\r\n",
      "\u001b[?25h  Preparing metadata (setup.py) ... \u001b[?25l-\b \b\\\b \bdone\r\n",
      "\u001b[?25hRequirement already satisfied: pandas in /opt/conda/lib/python3.10/site-packages (from pandas_ta) (2.2.2)\r\n",
      "Requirement already satisfied: numpy>=1.22.4 in /opt/conda/lib/python3.10/site-packages (from pandas->pandas_ta) (1.26.4)\r\n",
      "Requirement already satisfied: python-dateutil>=2.8.2 in /opt/conda/lib/python3.10/site-packages (from pandas->pandas_ta) (2.9.0.post0)\r\n",
      "Requirement already satisfied: pytz>=2020.1 in /opt/conda/lib/python3.10/site-packages (from pandas->pandas_ta) (2024.1)\r\n",
      "Requirement already satisfied: tzdata>=2022.7 in /opt/conda/lib/python3.10/site-packages (from pandas->pandas_ta) (2024.1)\r\n",
      "Requirement already satisfied: six>=1.5 in /opt/conda/lib/python3.10/site-packages (from python-dateutil>=2.8.2->pandas->pandas_ta) (1.16.0)\r\n",
      "Building wheels for collected packages: pandas_ta\r\n",
      "  Building wheel for pandas_ta (setup.py) ... \u001b[?25l-\b \b\\\b \b|\b \bdone\r\n",
      "\u001b[?25h  Created wheel for pandas_ta: filename=pandas_ta-0.3.14b0-py3-none-any.whl size=218910 sha256=c58ecd795e6a6a0a49976e8d77bbded046c813d3b755efa6c4925819f4d414cb\r\n",
      "  Stored in directory: /root/.cache/pip/wheels/69/00/ac/f7fa862c34b0e2ef320175100c233377b4c558944f12474cf0\r\n",
      "Successfully built pandas_ta\r\n",
      "Installing collected packages: pandas_ta\r\n",
      "Successfully installed pandas_ta-0.3.14b0\r\n",
      "Note: you may need to restart the kernel to use updated packages.\n"
     ]
    }
   ],
   "source": [
    "pip install pandas_ta "
   ]
  },
  {
   "cell_type": "markdown",
   "id": "81eff242",
   "metadata": {
    "papermill": {
     "duration": 0.0066,
     "end_time": "2024-09-05T12:39:44.117603",
     "exception": false,
     "start_time": "2024-09-05T12:39:44.111003",
     "status": "completed"
    },
    "tags": []
   },
   "source": [
    "Here I Install gensim which is needed to load vectors from the .kv file"
   ]
  },
  {
   "cell_type": "code",
   "execution_count": 3,
   "id": "46950e13",
   "metadata": {
    "execution": {
     "iopub.execute_input": "2024-09-05T12:39:44.133253Z",
     "iopub.status.busy": "2024-09-05T12:39:44.132817Z",
     "iopub.status.idle": "2024-09-05T12:39:52.769909Z",
     "shell.execute_reply": "2024-09-05T12:39:52.768755Z"
    },
    "papermill": {
     "duration": 8.648183,
     "end_time": "2024-09-05T12:39:52.772601",
     "exception": false,
     "start_time": "2024-09-05T12:39:44.124418",
     "status": "completed"
    },
    "tags": []
   },
   "outputs": [],
   "source": [
    "\n",
    "from gensim.models import KeyedVectors\n",
    "import numpy as np\n",
    "# Setting the script name.\n",
    "script_name = \"Reliance\"\n",
    "\n",
    "# Load the word embeddings\n",
    "link = \"/kaggle/input/trading-dataset/Machine Learning Assignment Dataset/Reliance_embeddings.kv\"\n",
    "word_vectors = KeyedVectors.load(link, mmap='r')\n",
    "\n",
    "# Getting the vector keys (or filenames in this case)\n",
    "metadata = word_vectors.index_to_key\n",
    "W=[]\n",
    "# Print the first 5 keys and their associated vectors\n",
    "for key in metadata:  # Adjust the range as needed to print more or fewer keys\n",
    "    W.append(word_vectors[key])\n",
    "    \n"
   ]
  },
  {
   "cell_type": "code",
   "execution_count": 4,
   "id": "c728336b",
   "metadata": {
    "execution": {
     "iopub.execute_input": "2024-09-05T12:39:52.788538Z",
     "iopub.status.busy": "2024-09-05T12:39:52.787908Z",
     "iopub.status.idle": "2024-09-05T12:40:06.293997Z",
     "shell.execute_reply": "2024-09-05T12:40:06.292908Z"
    },
    "papermill": {
     "duration": 13.516752,
     "end_time": "2024-09-05T12:40:06.296501",
     "exception": false,
     "start_time": "2024-09-05T12:39:52.779749",
     "status": "completed"
    },
    "tags": []
   },
   "outputs": [
    {
     "data": {
      "image/png": "[encoded data removed]",
      "text/plain": [
       "<Figure size 1000x600 with 1 Axes>"
      ]
     },
     "metadata": {},
     "output_type": "display_data"
    }
   ],
   "source": [
    "import numpy as np\n",
    "import pandas as pd\n",
    "import matplotlib.pyplot as plt  # Corrected import\n",
    "%matplotlib inline\n",
    "\n",
    "# Load CSV\n",
    "load_csv = pd.read_csv(\"/kaggle/input/trading-dataset/Machine Learning Assignment Dataset/Reliance.csv\")\n",
    "df = pd.DataFrame(load_csv)\n",
    "df['date'] = pd.to_datetime(df['date'])\n",
    "\n",
    "# Plot the 'close' column over time\n",
    "plt.figure(figsize=(10, 6))  # Optional: Set figure size for better visualization\n",
    "plt.title(\"Close Price Over Time\")  # Add title to the plot\n",
    "plt.xlabel(\"Date\")  # Label for X-axis\n",
    "plt.ylabel(\"Close Price\")  # Label for Y-axis\n",
    "plt.plot(df[\"date\"], df['close'], color='blue', linewidth=1)  # Use the date directly for x-axis\n",
    "\n",
    "plt.show()  # Display the plot\n"
   ]
  },
  {
   "cell_type": "code",
   "execution_count": 5,
   "id": "85295e8f",
   "metadata": {
    "execution": {
     "iopub.execute_input": "2024-09-05T12:40:06.313408Z",
     "iopub.status.busy": "2024-09-05T12:40:06.313006Z",
     "iopub.status.idle": "2024-09-05T12:40:11.164413Z",
     "shell.execute_reply": "2024-09-05T12:40:11.163210Z"
    },
    "papermill": {
     "duration": 4.862968,
     "end_time": "2024-09-05T12:40:11.167102",
     "exception": false,
     "start_time": "2024-09-05T12:40:06.304134",
     "status": "completed"
    },
    "tags": []
   },
   "outputs": [],
   "source": [
    "import pandas_ta as ta\n",
    "Stock_price=df\n",
    "Stock_price\n",
    "Stock_price['rsi'] = ta.rsi(Stock_price.close)\n",
    "Stock_price['ema'] = ta.ema(Stock_price.close)\n",
    "Stock_price['Target'] = Stock_price['close']-df.open\n",
    "Stock_price['Actual Target']= Stock_price['close'].shift(-1)\n",
    "Stock_price['Target class'] = [1 if Stock_price['Target'][i] > 0 else 0 for i in range(len(Stock_price))]\n",
    "Stock_price = Stock_price[Stock_price['volume']!=0]\n",
    "Stock_price =Stock_price.dropna()\n"
   ]
  },
  {
   "cell_type": "code",
   "execution_count": 6,
   "id": "513be1db",
   "metadata": {
    "execution": {
     "iopub.execute_input": "2024-09-05T12:40:11.183998Z",
     "iopub.status.busy": "2024-09-05T12:40:11.183498Z",
     "iopub.status.idle": "2024-09-05T12:40:11.285356Z",
     "shell.execute_reply": "2024-09-05T12:40:11.284355Z"
    },
    "papermill": {
     "duration": 0.112913,
     "end_time": "2024-09-05T12:40:11.287562",
     "exception": false,
     "start_time": "2024-09-05T12:40:11.174649",
     "status": "completed"
    },
    "tags": []
   },
   "outputs": [
    {
     "data": {
      "text/html": [
       "<div>\n",
       "<style scoped>\n",
       "    .dataframe tbody tr th:only-of-type {\n",
       "        vertical-align: middle;\n",
       "    }\n",
       "\n",
       "    .dataframe tbody tr th {\n",
       "        vertical-align: top;\n",
       "    }\n",
       "\n",
       "    .dataframe thead th {\n",
       "        text-align: right;\n",
       "    }\n",
       "</style>\n",
       "<table border=\"1\" class=\"dataframe\">\n",
       "  <thead>\n",
       "    <tr style=\"text-align: right;\">\n",
       "      <th></th>\n",
       "      <th>open</th>\n",
       "      <th>high</th>\n",
       "      <th>low</th>\n",
       "      <th>close</th>\n",
       "      <th>volume</th>\n",
       "      <th>ema</th>\n",
       "      <th>rsi</th>\n",
       "      <th>Target</th>\n",
       "      <th>Actual Target</th>\n",
       "      <th>Target class</th>\n",
       "    </tr>\n",
       "  </thead>\n",
       "  <tbody>\n",
       "    <tr>\n",
       "      <th>14</th>\n",
       "      <td>423.00</td>\n",
       "      <td>423.05</td>\n",
       "      <td>422.50</td>\n",
       "      <td>422.50</td>\n",
       "      <td>163</td>\n",
       "      <td>423.858518</td>\n",
       "      <td>25.155261</td>\n",
       "      <td>-0.50</td>\n",
       "      <td>422.50</td>\n",
       "      <td>0</td>\n",
       "    </tr>\n",
       "    <tr>\n",
       "      <th>15</th>\n",
       "      <td>422.60</td>\n",
       "      <td>422.75</td>\n",
       "      <td>422.10</td>\n",
       "      <td>422.50</td>\n",
       "      <td>1578</td>\n",
       "      <td>423.611514</td>\n",
       "      <td>25.155261</td>\n",
       "      <td>-0.10</td>\n",
       "      <td>422.65</td>\n",
       "      <td>0</td>\n",
       "    </tr>\n",
       "    <tr>\n",
       "      <th>16</th>\n",
       "      <td>422.75</td>\n",
       "      <td>423.65</td>\n",
       "      <td>422.65</td>\n",
       "      <td>422.65</td>\n",
       "      <td>1188</td>\n",
       "      <td>423.436694</td>\n",
       "      <td>28.165335</td>\n",
       "      <td>-0.10</td>\n",
       "      <td>423.05</td>\n",
       "      <td>0</td>\n",
       "    </tr>\n",
       "    <tr>\n",
       "      <th>17</th>\n",
       "      <td>422.65</td>\n",
       "      <td>423.35</td>\n",
       "      <td>422.65</td>\n",
       "      <td>423.05</td>\n",
       "      <td>583</td>\n",
       "      <td>423.366386</td>\n",
       "      <td>35.602974</td>\n",
       "      <td>0.40</td>\n",
       "      <td>423.50</td>\n",
       "      <td>1</td>\n",
       "    </tr>\n",
       "    <tr>\n",
       "      <th>18</th>\n",
       "      <td>423.60</td>\n",
       "      <td>423.75</td>\n",
       "      <td>423.10</td>\n",
       "      <td>423.50</td>\n",
       "      <td>775</td>\n",
       "      <td>423.390679</td>\n",
       "      <td>42.780611</td>\n",
       "      <td>-0.10</td>\n",
       "      <td>423.80</td>\n",
       "      <td>0</td>\n",
       "    </tr>\n",
       "    <tr>\n",
       "      <th>...</th>\n",
       "      <td>...</td>\n",
       "      <td>...</td>\n",
       "      <td>...</td>\n",
       "      <td>...</td>\n",
       "      <td>...</td>\n",
       "      <td>...</td>\n",
       "      <td>...</td>\n",
       "      <td>...</td>\n",
       "      <td>...</td>\n",
       "      <td>...</td>\n",
       "    </tr>\n",
       "    <tr>\n",
       "      <th>636370</th>\n",
       "      <td>894.55</td>\n",
       "      <td>895.45</td>\n",
       "      <td>894.55</td>\n",
       "      <td>895.05</td>\n",
       "      <td>2450</td>\n",
       "      <td>894.692265</td>\n",
       "      <td>52.132730</td>\n",
       "      <td>0.50</td>\n",
       "      <td>896.00</td>\n",
       "      <td>1</td>\n",
       "    </tr>\n",
       "    <tr>\n",
       "      <th>636371</th>\n",
       "      <td>895.40</td>\n",
       "      <td>897.05</td>\n",
       "      <td>895.05</td>\n",
       "      <td>896.00</td>\n",
       "      <td>3506</td>\n",
       "      <td>894.930035</td>\n",
       "      <td>55.620044</td>\n",
       "      <td>0.60</td>\n",
       "      <td>895.55</td>\n",
       "      <td>1</td>\n",
       "    </tr>\n",
       "    <tr>\n",
       "      <th>636372</th>\n",
       "      <td>895.50</td>\n",
       "      <td>896.50</td>\n",
       "      <td>895.50</td>\n",
       "      <td>895.55</td>\n",
       "      <td>3895</td>\n",
       "      <td>895.042756</td>\n",
       "      <td>53.627033</td>\n",
       "      <td>0.05</td>\n",
       "      <td>896.60</td>\n",
       "      <td>1</td>\n",
       "    </tr>\n",
       "    <tr>\n",
       "      <th>636373</th>\n",
       "      <td>895.75</td>\n",
       "      <td>897.00</td>\n",
       "      <td>895.50</td>\n",
       "      <td>896.60</td>\n",
       "      <td>3673</td>\n",
       "      <td>895.325891</td>\n",
       "      <td>57.457590</td>\n",
       "      <td>0.85</td>\n",
       "      <td>894.90</td>\n",
       "      <td>1</td>\n",
       "    </tr>\n",
       "    <tr>\n",
       "      <th>636374</th>\n",
       "      <td>896.60</td>\n",
       "      <td>896.60</td>\n",
       "      <td>894.10</td>\n",
       "      <td>894.90</td>\n",
       "      <td>5958</td>\n",
       "      <td>895.248456</td>\n",
       "      <td>50.224017</td>\n",
       "      <td>-1.70</td>\n",
       "      <td>894.45</td>\n",
       "      <td>0</td>\n",
       "    </tr>\n",
       "  </tbody>\n",
       "</table>\n",
       "<p>586862 rows × 10 columns</p>\n",
       "</div>"
      ],
      "text/plain": [
       "          open    high     low   close  volume         ema        rsi  Target  \\\n",
       "14      423.00  423.05  422.50  422.50     163  423.858518  25.155261   -0.50   \n",
       "15      422.60  422.75  422.10  422.50    1578  423.611514  25.155261   -0.10   \n",
       "16      422.75  423.65  422.65  422.65    1188  423.436694  28.165335   -0.10   \n",
       "17      422.65  423.35  422.65  423.05     583  423.366386  35.602974    0.40   \n",
       "18      423.60  423.75  423.10  423.50     775  423.390679  42.780611   -0.10   \n",
       "...        ...     ...     ...     ...     ...         ...        ...     ...   \n",
       "636370  894.55  895.45  894.55  895.05    2450  894.692265  52.132730    0.50   \n",
       "636371  895.40  897.05  895.05  896.00    3506  894.930035  55.620044    0.60   \n",
       "636372  895.50  896.50  895.50  895.55    3895  895.042756  53.627033    0.05   \n",
       "636373  895.75  897.00  895.50  896.60    3673  895.325891  57.457590    0.85   \n",
       "636374  896.60  896.60  894.10  894.90    5958  895.248456  50.224017   -1.70   \n",
       "\n",
       "        Actual Target  Target class  \n",
       "14             422.50             0  \n",
       "15             422.65             0  \n",
       "16             423.05             0  \n",
       "17             423.50             1  \n",
       "18             423.80             0  \n",
       "...               ...           ...  \n",
       "636370         896.00             1  \n",
       "636371         895.55             1  \n",
       "636372         896.60             1  \n",
       "636373         894.90             1  \n",
       "636374         894.45             0  \n",
       "\n",
       "[586862 rows x 10 columns]"
      ]
     },
     "execution_count": 6,
     "metadata": {},
     "output_type": "execute_result"
    }
   ],
   "source": [
    "\n",
    "cols = ['open','high','low','close','volume','ema','rsi','Target','Actual Target','Target class']\n",
    "Stock_price= Stock_price[cols]\n",
    "Stock_price=Stock_price.dropna()\n",
    "Stock_price"
   ]
  },
  {
   "cell_type": "markdown",
   "id": "2d5cc32d",
   "metadata": {
    "papermill": {
     "duration": 0.00776,
     "end_time": "2024-09-05T12:40:11.303102",
     "exception": false,
     "start_time": "2024-09-05T12:40:11.295342",
     "status": "completed"
    },
    "tags": []
   },
   "source": [
    "Here is the stock prices along the data time"
   ]
  },
  {
   "cell_type": "code",
   "execution_count": 7,
   "id": "991d3431",
   "metadata": {
    "execution": {
     "iopub.execute_input": "2024-09-05T12:40:11.320551Z",
     "iopub.status.busy": "2024-09-05T12:40:11.320133Z",
     "iopub.status.idle": "2024-09-05T12:40:11.394102Z",
     "shell.execute_reply": "2024-09-05T12:40:11.393057Z"
    },
    "papermill": {
     "duration": 0.085392,
     "end_time": "2024-09-05T12:40:11.396433",
     "exception": false,
     "start_time": "2024-09-05T12:40:11.311041",
     "status": "completed"
    },
    "tags": []
   },
   "outputs": [
    {
     "data": {
      "text/plain": [
       "array([[ 4.2300e+02,  4.2305e+02,  4.2250e+02, ..., -5.0000e-01,\n",
       "         4.2250e+02,  0.0000e+00],\n",
       "       [ 4.2260e+02,  4.2275e+02,  4.2210e+02, ..., -1.0000e-01,\n",
       "         4.2265e+02,  0.0000e+00],\n",
       "       [ 4.2275e+02,  4.2365e+02,  4.2265e+02, ..., -1.0000e-01,\n",
       "         4.2305e+02,  0.0000e+00],\n",
       "       ...,\n",
       "       [ 3.7640e+02,  3.7640e+02,  3.7630e+02, ..., -1.0000e-01,\n",
       "         3.7625e+02,  0.0000e+00],\n",
       "       [ 3.7640e+02,  3.7640e+02,  3.7625e+02, ..., -1.5000e-01,\n",
       "         3.7600e+02,  0.0000e+00],\n",
       "       [ 3.7640e+02,  3.7640e+02,  3.7570e+02, ..., -4.0000e-01,\n",
       "         3.7705e+02,  0.0000e+00]])"
      ]
     },
     "execution_count": 7,
     "metadata": {},
     "output_type": "execute_result"
    }
   ],
   "source": [
    "\n",
    "Input_data = np.array(Stock_price.iloc[:29979])\n",
    "Validation_data = np.array(Stock_price.iloc[29979:])\n",
    "Cross_validation = np.array(Stock_price.iloc[29979:])\n",
    "Output_data = W\n",
    "Input_data"
   ]
  },
  {
   "cell_type": "markdown",
   "id": "65851980",
   "metadata": {
    "papermill": {
     "duration": 0.007756,
     "end_time": "2024-09-05T12:40:11.412357",
     "exception": false,
     "start_time": "2024-09-05T12:40:11.404601",
     "status": "completed"
    },
    "tags": []
   },
   "source": [
    "pp install pan"
   ]
  },
  {
   "cell_type": "code",
   "execution_count": 8,
   "id": "9f1d8a85",
   "metadata": {
    "execution": {
     "iopub.execute_input": "2024-09-05T12:40:11.430650Z",
     "iopub.status.busy": "2024-09-05T12:40:11.430239Z",
     "iopub.status.idle": "2024-09-05T12:44:18.106435Z",
     "shell.execute_reply": "2024-09-05T12:44:18.105323Z"
    },
    "papermill": {
     "duration": 246.695849,
     "end_time": "2024-09-05T12:44:18.116259",
     "exception": false,
     "start_time": "2024-09-05T12:40:11.420410",
     "status": "completed"
    },
    "tags": []
   },
   "outputs": [
    {
     "name": "stdout",
     "output_type": "stream",
     "text": [
      "Mean Squared Error: 0.00020295225840527564\n"
     ]
    },
    {
     "data": {
      "text/plain": [
       "array([[2.7879036e-05, 2.7677086e-06, 2.0576222e-03, ..., 5.6703295e-05,\n",
       "        8.9058697e-01, 2.6574789e-08],\n",
       "       [2.7879036e-05, 2.7677086e-06, 2.1595205e-03, ..., 6.8684101e-05,\n",
       "        8.8519901e-01, 2.6574789e-08],\n",
       "       [2.7879036e-05, 2.7677086e-06, 2.7272976e-03, ..., 6.1434890e-05,\n",
       "        8.8630772e-01, 2.6574789e-08],\n",
       "       ...,\n",
       "       [1.8771482e-04, 2.7677086e-06, 3.9542895e-03, ..., 8.6987893e-05,\n",
       "        8.8412136e-01, 2.6574789e-08],\n",
       "       [1.8771482e-04, 2.7677086e-06, 2.9689162e-03, ..., 9.5120129e-05,\n",
       "        8.8436675e-01, 2.6574789e-08],\n",
       "       [1.8771482e-04, 2.7677086e-06, 5.7271854e-03, ..., 7.6839024e-05,\n",
       "        8.8428760e-01, 2.6574789e-08]], dtype=float32)"
      ]
     },
     "execution_count": 8,
     "metadata": {},
     "output_type": "execute_result"
    }
   ],
   "source": [
    "\n",
    "import xgboost as xgb\n",
    "from sklearn.multioutput import MultiOutputRegressor\n",
    "from sklearn.model_selection import train_test_split\n",
    "from sklearn.metrics import mean_squared_error\n",
    "\n",
    "# Sample data preparation\n",
    "# Assuming you have your OHLC data in a NumPy array `ohlc_data` with shape (n_samples, 4)\n",
    "# And the corresponding 512-dimensional vectors in a NumPy array `vectors` with shape (n_samples, 512)\n",
    "\n",
    "# Example of random data (replace this with your actual data)\n",
    "n_samples = 29979\n",
    "X = Input_data  # OHLC data (replace with actual OHLC data)\n",
    "y = Output_data  # 512-dimensional vectors (replace with actual vectors)\n",
    "\n",
    "# Split the data into training and testing sets\n",
    "X_train, X_test, y_train, y_test = train_test_split(X, y, test_size=0.2, random_state=42)\n",
    "\n",
    "# Initialize the XGBoost Regressor\n",
    "xgb_model = xgb.XGBRegressor(objective='reg:squarederror', n_estimators=100, max_depth=5, learning_rate=0.1)\n",
    "\n",
    "# Wrap XGBoost with MultiOutputRegressor to handle multi-output regression\n",
    "multi_output_model = MultiOutputRegressor(xgb_model)\n",
    "\n",
    "multi_output_model.fit(X,y)\n",
    "\n",
    "y_pred = multi_output_model.predict(X_test)\n",
    "\n",
    "# Evaluate the model performance using Mean Squared Error\n",
    "mse = mean_squared_error(y_test, y_pred)\n",
    "print(f\"Mean Squared Error: {mse}\")\n",
    "\n",
    "# Predict vectors for new OHLC records (replace `new_ohlc_data` with actual data)\n",
    "new_ohlc_data = Validation_data  # Example data (replace with actual new OHLC data)\n",
    "predicted_vectors = multi_output_model.predict(new_ohlc_data)\n",
    "\n",
    "predicted_vectors"
   ]
  },
  {
   "cell_type": "code",
   "execution_count": 9,
   "id": "2805b025",
   "metadata": {
    "execution": {
     "iopub.execute_input": "2024-09-05T12:44:18.134284Z",
     "iopub.status.busy": "2024-09-05T12:44:18.133812Z",
     "iopub.status.idle": "2024-09-05T12:44:19.370390Z",
     "shell.execute_reply": "2024-09-05T12:44:19.369083Z"
    },
    "papermill": {
     "duration": 1.248693,
     "end_time": "2024-09-05T12:44:19.372969",
     "exception": false,
     "start_time": "2024-09-05T12:44:18.124276",
     "status": "completed"
    },
    "tags": []
   },
   "outputs": [
    {
     "name": "stdout",
     "output_type": "stream",
     "text": [
      "(29979, 512)\n",
      "(556883, 512)\n",
      "(586862, 512)\n",
      "(586862, 10)\n"
     ]
    }
   ],
   "source": [
    "# Concatenate the new vectors with the given vectors \n",
    "print(np.array(Output_data).shape)\n",
    "print(predicted_vectors.shape)\n",
    "combined_vectors = np.vstack((Output_data,predicted_vectors))\n",
    "print(combined_vectors.shape)\n",
    "print(Stock_price.shape)\n"
   ]
  },
  {
   "cell_type": "code",
   "execution_count": 10,
   "id": "9ac9f9cf",
   "metadata": {
    "execution": {
     "iopub.execute_input": "2024-09-05T12:44:19.391474Z",
     "iopub.status.busy": "2024-09-05T12:44:19.391080Z",
     "iopub.status.idle": "2024-09-05T13:07:03.301922Z",
     "shell.execute_reply": "2024-09-05T13:07:03.299995Z"
    },
    "papermill": {
     "duration": 1363.923238,
     "end_time": "2024-09-05T13:07:03.304727",
     "exception": false,
     "start_time": "2024-09-05T12:44:19.381489",
     "status": "completed"
    },
    "tags": []
   },
   "outputs": [
    {
     "name": "stderr",
     "output_type": "stream",
     "text": [
      "/opt/conda/lib/python3.10/site-packages/keras/src/layers/rnn/rnn.py:204: UserWarning: Do not pass an `input_shape`/`input_dim` argument to a layer. When using Sequential models, prefer using an `Input(shape)` object as the first layer in the model instead.\n",
      "  super().__init__(**kwargs)\n"
     ]
    },
    {
     "name": "stdout",
     "output_type": "stream",
     "text": [
      "Epoch 1/5\n",
      "\u001b[1m7336/7336\u001b[0m \u001b[32m━━━━━━━━━━━━━━━━━━━━\u001b[0m\u001b[37m\u001b[0m \u001b[1m260s\u001b[0m 35ms/step - loss: 124654.7500 - val_loss: 21312.6055\n",
      "Epoch 2/5\n",
      "\u001b[1m7336/7336\u001b[0m \u001b[32m━━━━━━━━━━━━━━━━━━━━\u001b[0m\u001b[37m\u001b[0m \u001b[1m263s\u001b[0m 35ms/step - loss: 20036.4941 - val_loss: 19017.3711\n",
      "Epoch 3/5\n",
      "\u001b[1m7336/7336\u001b[0m \u001b[32m━━━━━━━━━━━━━━━━━━━━\u001b[0m\u001b[37m\u001b[0m \u001b[1m260s\u001b[0m 35ms/step - loss: 19758.4180 - val_loss: 19023.6055\n",
      "Epoch 4/5\n",
      "\u001b[1m7336/7336\u001b[0m \u001b[32m━━━━━━━━━━━━━━━━━━━━\u001b[0m\u001b[37m\u001b[0m \u001b[1m260s\u001b[0m 35ms/step - loss: 19557.9980 - val_loss: 19024.5664\n",
      "Epoch 5/5\n",
      "\u001b[1m7336/7336\u001b[0m \u001b[32m━━━━━━━━━━━━━━━━━━━━\u001b[0m\u001b[37m\u001b[0m \u001b[1m259s\u001b[0m 35ms/step - loss: 19676.8340 - val_loss: 19020.3730\n",
      "\u001b[1m3668/3668\u001b[0m \u001b[32m━━━━━━━━━━━━━━━━━━━━\u001b[0m\u001b[37m\u001b[0m \u001b[1m36s\u001b[0m 10ms/step\n"
     ]
    }
   ],
   "source": [
    "\n",
    "import numpy as np\n",
    "from sklearn.preprocessing import MinMaxScaler\n",
    "import tensorflow as tf\n",
    "from tensorflow.keras.models import Sequential\n",
    "from tensorflow.keras.layers import Dense, LSTM, Dropout\n",
    "from sklearn.decomposition import PCA\n",
    "\n",
    "# Assuming input_data is your OHLC and additional data\n",
    "# Combine input data with vectors\n",
    "\n",
    "\n",
    "pca = PCA(n_components=4)  # Reduce to 10 components\n",
    "arr_reduced = pca.fit_transform(combined_vectors)\n",
    "combined_data = np.hstack((Stock_price,arr_reduced))\n",
    "\n",
    "\n",
    "# Create sequences for LSTM model\n",
    "sequence_length = 30  # Example window size for sequence\n",
    "X = []\n",
    "y = []\n",
    "\n",
    "for i in range(sequence_length, len(combined_data)):\n",
    "    X.append(combined_data[i-sequence_length:i, :])\n",
    "    y.append(combined_data[i, 3])  # Assuming 'close' is at index 3\n",
    "\n",
    "X, y = np.array(X), np.array(y)\n",
    "\n",
    "# Train-Test Split\n",
    "X_train, X_test, y_train, y_test = train_test_split(X, y, test_size=0.2, random_state=42)\n",
    "\n",
    "# Build LSTM Model\n",
    "model = Sequential()\n",
    "model.add(LSTM(units=64, return_sequences=True, input_shape=(X_train.shape[1], X_train.shape[2])))\n",
    "model.add(Dropout(0.2))\n",
    "model.add(LSTM(units=64, return_sequences=False))\n",
    "model.add(Dropout(0.2))\n",
    "model.add(Dense(units=1))\n",
    "\n",
    "# Compile the model\n",
    "model.compile(optimizer='adam', loss='mean_squared_error')\n",
    "\n",
    "# Train the model\n",
    "model.fit(X_train, y_train, epochs=5, batch_size=64, validation_data=(X_test, y_test))\n",
    "\n",
    "# Predict Future Closing Prices\n",
    "predicted_prices = model.predict(X_test)\n"
   ]
  },
  {
   "cell_type": "code",
   "execution_count": 11,
   "id": "5a060205",
   "metadata": {
    "execution": {
     "iopub.execute_input": "2024-09-05T13:07:05.996471Z",
     "iopub.status.busy": "2024-09-05T13:07:05.994671Z",
     "iopub.status.idle": "2024-09-05T13:07:16.632259Z",
     "shell.execute_reply": "2024-09-05T13:07:16.631058Z"
    },
    "papermill": {
     "duration": 11.984883,
     "end_time": "2024-09-05T13:07:16.634827",
     "exception": false,
     "start_time": "2024-09-05T13:07:04.649944",
     "status": "completed"
    },
    "tags": []
   },
   "outputs": [
    {
     "data": {
      "image/png": "[encoded data removed]",
      "text/plain": [
       "<Figure size 1500x600 with 1 Axes>"
      ]
     },
     "metadata": {},
     "output_type": "display_data"
    }
   ],
   "source": [
    "import matplotlib.pyplot as plt\n",
    "import matplotlib.dates as mdates\n",
    "\n",
    "# Ensure 'date' is a datetime column\n",
    "df['date'] = pd.to_datetime(df['date'])\n",
    "\n",
    "# Reshape predicted_prices for correct plotting\n",
    "predicted_prices = predicted_prices.reshape(predicted_prices.shape[0])\n",
    "\n",
    "# Extract dates for X (training/overall) and X_test (testing) from DataFrame\n",
    "overall_dates = df.iloc[X[:, -1, 0]].date  # Adjust indexing as needed to match date column\n",
    "test_dates = df.iloc[X_test[:, -1, 0]].date  # Extract dates using the last time step in each sequence\n",
    "\n",
    "# Plot configuration\n",
    "plt.figure(figsize=(15, 6))  # Optional: Set figure size for better visualization\n",
    "plt.title(\"Close Price Over Time with Predicted Close Prices\")  # Add title to the plot\n",
    "plt.xlabel(\"Date\")  # Label for X-axis\n",
    "plt.ylabel(\"Close Price\")  # Label for Y-axis\n",
    "\n",
    "# Plot actual closing prices (using overall data)\n",
    "plt.plot(overall_dates, y, color='red', linewidth=1, label='Actual Close Prices')  # Use the date directly for the x-axis\n",
    "\n",
    "# Plot predicted closing prices (using test data)\n",
    "plt.plot(test_dates, predicted_prices, color='blue', linewidth=1, label='Predicted Close Prices')\n",
    "\n",
    "# Set up date formatting for better visualization\n",
    "plt.gca().xaxis.set_major_locator(mdates.MonthLocator())  # Set major ticks to every month\n",
    "plt.gca().xaxis.set_major_formatter(mdates.DateFormatter('%Y-%m'))  # Format dates as 'YYYY-MM'\n",
    "\n",
    "# Rotate x-axis labels for readability\n",
    "plt.xticks(rotation=45)\n",
    "\n",
    "# Add grid and legend\n",
    "plt.grid(True)\n",
    "plt.legend()\n",
    "\n",
    "# Display the plot\n",
    "plt.show()\n"
   ]
  }
 ],
 "metadata": {
  "kaggle": {
   "accelerator": "none",
   "dataSources": [
    {
     "datasetId": 5627486,
     "sourceId": 9294945,
     "sourceType": "datasetVersion"
    }
   ],
   "dockerImageVersionId": 30761,
   "isGpuEnabled": false,
   "isInternetEnabled": true,
   "language": "python",
   "sourceType": "notebook"
  },
  "kernelspec": {
   "display_name": "Python 3",
   "language": "python",
   "name": "python3"
  },
  "language_info": {
   "codemirror_mode": {
    "name": "ipython",
    "version": 3
   },
   "file_extension": ".py",
   "mimetype": "text/x-python",
   "name": "python",
   "nbconvert_exporter": "python",
   "pygments_lexer": "ipython3",
   "version": "3.10.14"
  },
  "papermill": {
   "default_parameters": {},
   "duration": 1698.685703,
   "end_time": "2024-09-05T13:07:20.591387",
   "environment_variables": {},
   "exception": null,
   "input_path": "__notebook__.ipynb",
   "output_path": "__notebook__.ipynb",
   "parameters": {},
   "start_time": "2024-09-05T12:39:01.905684",
   "version": "2.6.0"
  }
 },
 "nbformat": 4,
 "nbformat_minor": 5
}
